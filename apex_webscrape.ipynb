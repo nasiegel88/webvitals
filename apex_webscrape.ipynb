{
 "cells": [
  {
   "cell_type": "code",
   "execution_count": null,
   "metadata": {},
   "outputs": [],
   "source": []
  },
  {
   "cell_type": "code",
   "execution_count": 75,
   "metadata": {},
   "outputs": [],
   "source": [
    "# Load modules\n",
    "%run -i scripts/login.py\n",
    "%run -i scripts/location.py\n",
    "%run -i scripts/weight.py\n",
    "%run -i scripts/diarrhea_observations.py\n",
    "%run -i scripts/snomed.py"
   ]
  },
  {
   "cell_type": "markdown",
   "metadata": {},
   "source": [
    "### webvitals.py"
   ]
  },
  {
   "cell_type": "code",
   "execution_count": 76,
   "metadata": {},
   "outputs": [],
   "source": [
    "# Example query for testing\n",
    "query = ['47455','47510' ,'40459']"
   ]
  },
  {
   "cell_type": "code",
   "execution_count": 89,
   "metadata": {
    "scrolled": true
   },
   "outputs": [
    {
     "name": "stdout",
     "output_type": "stream",
     "text": [
      "\n"
     ]
    },
    {
     "name": "stderr",
     "output_type": "stream",
     "text": [
      "[WDM] - ====== WebDriver manager ======\n",
      "[WDM] - Driver [C:\\Users\\Noah Siegel\\.wdm\\drivers\\geckodriver\\win64\\v0.20.0\\geckodriver.exe] found in cache\n"
     ]
    },
    {
     "name": "stdout",
     "output_type": "stream",
     "text": [
      "'webvitals_config.properties' found!\n",
      "\n",
      "[+] Login successful!\n",
      "\n",
      "Running location query\n"
     ]
    },
    {
     "name": "stderr",
     "output_type": "stream",
     "text": [
      "100%|████████████████████████████████████████████████████████████████| 3/3 [00:01<00:00,  1.55it/s]\n"
     ]
    },
    {
     "name": "stdout",
     "output_type": "stream",
     "text": [
      "Running diarrhea observation query\n"
     ]
    },
    {
     "name": "stderr",
     "output_type": "stream",
     "text": [
      "100%|████████████████████████████████████████████████████████████████| 3/3 [00:01<00:00,  1.84it/s]\n"
     ]
    },
    {
     "name": "stdout",
     "output_type": "stream",
     "text": [
      "Running weight query\n"
     ]
    },
    {
     "name": "stderr",
     "output_type": "stream",
     "text": [
      "100%|████████████████████████████████████████████████████████████████| 3/3 [00:01<00:00,  1.79it/s]\n"
     ]
    },
    {
     "name": "stdout",
     "output_type": "stream",
     "text": [
      "Running snomed query\n"
     ]
    },
    {
     "name": "stderr",
     "output_type": "stream",
     "text": [
      "100%|████████████████████████████████████████████████████████████████| 3/3 [00:01<00:00,  1.81it/s]\n"
     ]
    },
    {
     "name": "stdout",
     "output_type": "stream",
     "text": [
      "Driver Title: CNPRC Web VITALS ver. 2.5.3\n",
      "Driver Name: firefox\n"
     ]
    }
   ],
   "source": [
    "import selenium\n",
    "import datetime\n",
    "import getpass\n",
    "import time\n",
    "import os\n",
    "import html5lib\n",
    "\n",
    "import numpy as np\n",
    "import pandas as pd\n",
    "import dateutil.parser as dparser\n",
    "\n",
    "from selenium import webdriver\n",
    "from selenium.webdriver.support.ui import WebDriverWait\n",
    "from selenium.webdriver.support import expected_conditions as EC\n",
    "from selenium.webdriver.common.by import By\n",
    "from selenium.webdriver.firefox.options import Options\n",
    "from selenium.common.exceptions import NoSuchElementException\n",
    "\n",
    "from tqdm import tqdm\n",
    "\n",
    "from jproperties import Properties\n",
    "\n",
    "from webdriver_manager.firefox import GeckoDriverManager\n",
    "\n",
    "from bs4 import BeautifulSoup\n",
    "\n",
    "# Enter options\n",
    "options = Options()\n",
    "options.add_argument(\"--headless\")\n",
    "\n",
    "# Install Geckodriver\n",
    "driver = webdriver.Firefox(executable_path=GeckoDriverManager(version=\"v0.20.0\").install(),\n",
    "                          options=options)\n",
    "\n",
    "# Go to login page\n",
    "driver.get(\"https://davos.primate.ucdavis.edu/login/\")\n",
    "\n",
    "login()\n",
    "\n",
    "print('Running location query')\n",
    "time.sleep(2)\n",
    "location(query)\n",
    "\n",
    "print('Running diarrhea observation query')\n",
    "time.sleep(2)\n",
    "diarrhea_observations(query)\n",
    "\n",
    "print('Running weight query')\n",
    "time.sleep(2)\n",
    "weight(query)\n",
    "\n",
    "print('Running snomed query')\n",
    "time.sleep(2)\n",
    "snomed(query)\n",
    "\n",
    "print('Driver Title:',driver.title)\n",
    "print('Driver Name:',driver.name)\n",
    "driver.quit()"
   ]
  }
 ],
 "metadata": {
  "kernelspec": {
   "display_name": "Python 3",
   "language": "python",
   "name": "python3"
  },
  "language_info": {
   "codemirror_mode": {
    "name": "ipython",
    "version": 3
   },
   "file_extension": ".py",
   "mimetype": "text/x-python",
   "name": "python",
   "nbconvert_exporter": "python",
   "pygments_lexer": "ipython3",
   "version": "3.6.5"
  }
 },
 "nbformat": 4,
 "nbformat_minor": 4
}
