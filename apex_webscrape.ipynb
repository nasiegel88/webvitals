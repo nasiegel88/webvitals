{
 "cells": [
  {
   "cell_type": "markdown",
   "metadata": {},
   "source": [
    "### key.py"
   ]
  },
  {
   "cell_type": "code",
   "execution_count": 1,
   "metadata": {},
   "outputs": [
    {
     "name": "stdout",
     "output_type": "stream",
     "text": [
      "'webvitals_config.properties' found!\n"
     ]
    }
   ],
   "source": [
    "from jproperties import Properties\n",
    "key=\"webvitals_config.properties\"\n",
    "try:\n",
    "    f = open(key)\n",
    "    configs = Properties()\n",
    "    \n",
    "    with open(key, 'rb') as config_file:\n",
    "        configs.load(config_file)\n",
    "        \n",
    "    items_view = configs.items()\n",
    "    list_keys = []\n",
    "    print(\"'\" + key + \"'\" + \" found!\")    \n",
    "    for item in items_view:\n",
    "        list_keys.append(item[0])    \n",
    "except IOError:\n",
    "    print(\"please create \" + key + \" file w/ credentials\")\n",
    "finally:\n",
    "    f.close()"
   ]
  },
  {
   "cell_type": "markdown",
   "metadata": {},
   "source": [
    "### automate_login.py"
   ]
  },
  {
   "cell_type": "code",
   "execution_count": 2,
   "metadata": {},
   "outputs": [],
   "source": [
    "def login(username, password):\n",
    "    \n",
    "    from logging import error\n",
    "    from selenium import webdriver\n",
    "    from selenium.webdriver.support.ui import WebDriverWait\n",
    "    \n",
    "    # Login\n",
    "    driver.find_element_by_name(\"ssousername\").send_keys(username)\n",
    "    driver.find_element_by_name(\"password\").send_keys(password)\n",
    "    driver.find_element_by_xpath(\"/html/body/center/table/tbody/tr[3]/td/font/input[1]\").click()\n",
    "    \n",
    "    # Handle errors logging in\n",
    "    WebDriverWait(driver=driver, timeout=10).until(\n",
    "    lambda x: x.execute_script(\"return document.readyState === 'complete'\"))\n",
    "    error_message = \"Incorrect username or password.\"\n",
    "    errors = driver.find_elements_by_class_name(\"flash-error\")\n",
    "    \n",
    "    # Print errors optionally\n",
    "    if any(error_message in e.text for e in errors):\n",
    "        print(\"[!] Login failed!\")\n",
    "    else:\n",
    "        print(\"[+] Login successful!\")\n"
   ]
  },
  {
   "cell_type": "markdown",
   "metadata": {},
   "source": [
    "### webvitals.py"
   ]
  },
  {
   "cell_type": "code",
   "execution_count": null,
   "metadata": {},
   "outputs": [],
   "source": [
    "# Example query for testing\n",
    "test = ['47510', '47455', '40459']"
   ]
  },
  {
   "cell_type": "code",
   "execution_count": 349,
   "metadata": {},
   "outputs": [
    {
     "name": "stdout",
     "output_type": "stream",
     "text": [
      "\n"
     ]
    },
    {
     "name": "stderr",
     "output_type": "stream",
     "text": [
      "[WDM] - ====== WebDriver manager ======\n",
      "[WDM] - Driver [C:\\Users\\Noah Siegel\\.wdm\\drivers\\geckodriver\\win64\\v0.20.0\\geckodriver.exe] found in cache\n"
     ]
    },
    {
     "name": "stdout",
     "output_type": "stream",
     "text": [
      "[+] Login successful!\n",
      "      MMU     Date In   Location    Date Out        Dead  Months\n",
      "1   47510  11/19/2018   NW1409-8  12/18/2018  12/18/2018    0.95\n",
      "2   47510  07/16/2018   NW1411-6  11/19/2018  12/18/2018    4.10\n",
      "3   47510  06/14/2018   NW1413-6  07/16/2018  12/18/2018    1.07\n",
      "5   47455  10/31/2018  NW1409-32  11/30/2018  11/30/2018    1.00\n",
      "6   47455  05/27/2018   SW1604-3  10/31/2018  11/30/2018    5.13\n",
      "8   40459  03/20/2012   HO6107-3  04/24/2012  04/24/2012    1.13\n",
      "9   40459  02/22/2012       NC17  03/20/2012  04/24/2012    0.89\n",
      "10  40459  01/07/2012   HO6107-2  02/22/2012  04/24/2012    1.49\n",
      "11  40459  11/23/2011       NC17  01/07/2012  04/24/2012    1.49\n",
      "12  40459  11/05/2011  HO6306-53  11/23/2011  04/24/2012    0.59\n",
      "13  40459  10/26/2009       NC17  11/05/2011  04/24/2012   24.33\n",
      "14  40459  10/20/2009  HO6306-55  10/26/2009  04/24/2012    0.20\n",
      "15  40459  08/08/2009       NC17  10/20/2009  04/24/2012    2.39\n",
      "driver Title: CNPRC Web VITALS ver. 2.5.3\n",
      "Driver name: firefox\n",
      "Driver URL: https://davos.primate.ucdavis.edu/webVitals/queryAnimal.do?animalID=40459&dPage=Relocation\n"
     ]
    }
   ],
   "source": [
    "import selenium\n",
    "\n",
    "from selenium import webdriver\n",
    "from webdriver_manager.firefox import GeckoDriverManager\n",
    "from selenium.webdriver.firefox.options import Options\n",
    "\n",
    "# Install Geckodriver\n",
    "driver = webdriver.Firefox(executable_path=GeckoDriverManager(version=\"v0.20.0\").install())\n",
    "\n",
    "# # Enter options\n",
    "# options = FirefoxOptions()\n",
    "# options.add_argument(\"--headless\")\n",
    "# driver = webdriver.Firefox(options=options)\n",
    "\n",
    "# Go to login page\n",
    "driver.get(\"https://davos.primate.ucdavis.edu/login/\")\n",
    "\n",
    "# Login\n",
    "login(username=configs.get(\"USERNAME\")[0],\n",
    "      password=configs.get(\"PASSWORD\")[0])\n",
    "\n",
    "# Enter Webvitals\n",
    "driver.find_element_by_xpath(\"/html/body/ul/li[1]/a\").click()\n",
    "\n",
    "from bs4 import BeautifulSoup\n",
    "from selenium.webdriver.support.ui import WebDriverWait\n",
    "from selenium.webdriver.common.by import By\n",
    "from selenium.webdriver.support import expected_conditions as EC\n",
    "import numpy\n",
    "import pandas as pd\n",
    "\n",
    "animal_location(test)\n",
    "\n",
    "print('driver Title:',driver.title)\n",
    "print('Driver name:',driver.name)\n",
    "print('Driver URL:',driver.current_url)\n",
    "driver.quit()"
   ]
  },
  {
   "cell_type": "markdown",
   "metadata": {},
   "source": [
    "### animal_info.py"
   ]
  },
  {
   "cell_type": "code",
   "execution_count": 348,
   "metadata": {},
   "outputs": [],
   "source": [
    "# Relocation\n",
    "def animal_location(ids):\n",
    "    \n",
    "    data = pd.DataFrame()\n",
    "    \n",
    "    for i in ids:\n",
    "        \n",
    "        # Go to relocation history in Webvitals\n",
    "        driver.find_element_by_name(\"query_input\").send_keys(i)\n",
    "        driver.find_element_by_name(\"submit\").click()\n",
    "        driver.find_element_by_xpath(\"/html/body/table[1]/tbody/tr[3]/td/center/table[3]/tbody/tr/td[5]/a\").click()\n",
    "        \n",
    "        # Extract html table\n",
    "        tableelement=WebDriverWait(driver,10).until(EC.visibility_of_element_located((By.XPATH,\"/html/body/table[2]/tbody/tr/td[1]/center[1]/table\"))).get_attribute('outerHTML')\n",
    "        table = pd.read_html(str(tableelement))[0]\n",
    "        \n",
    "        # Add column to specify MMU number\n",
    "        table['MMU'] = i\n",
    "        first_column = table.pop('MMU')\n",
    "        table.insert(0, 'MMU', first_column)\n",
    "        \n",
    "        # Append dataframes into one dataframe\n",
    "        data = data.append(table, ignore_index=True)\n",
    "        \n",
    "    # Clean output table   \n",
    "    data = data.rename(columns={\"Time at Locationyr : mon : day\" : \"Time\"})\n",
    "    data = data.join(data['Time'].str.split(':', 3, expand=True))\n",
    "    data = data.rename(columns={0:\"Year\",1:\"Month\",2:\"Day\"})\n",
    "    # Subset date of death if animal is dead\n",
    "    death = (\n",
    "        data\n",
    "        .loc[data['Location'] == 'DEAD']\n",
    "        .rename(columns={\"Date In\":\"Dead\"})\n",
    "    )[['MMU', 'Dead']]\n",
    "    # Merge dataframes\n",
    "    df = (\n",
    "        data\n",
    "        .merge(death, on='MMU', how='left')\n",
    "        .dropna()\n",
    "    )\n",
    "    # Convert age to numeric\n",
    "    df['Year'] = pd.to_numeric(df['Year'])\n",
    "    df['Month'] = pd.to_numeric(df['Month'])\n",
    "    df['Day'] = pd.to_numeric(df['Day'])\n",
    "    # List age in months\n",
    "    day_year = 365.2425\n",
    "    day_month = 30.436875\n",
    "    df['Days'] = df.Year.mul(day_year) + df.Month.mul(day_month) + df.Day\n",
    "    df['Months'] = df.Days.div(day_month)\n",
    "    df.drop(['Year', 'Month', 'Day', 'Days', 'Time'],inplace=True, axis=1)\n",
    "    df = df.round(2)\n",
    "    # Add object to namespace\n",
    "    globals()['df'] = df\n",
    "    print(df)\n",
    "\n",
    "        "
   ]
  },
  {
   "cell_type": "markdown",
   "metadata": {},
   "source": [
    "### Options"
   ]
  },
  {
   "cell_type": "code",
   "execution_count": null,
   "metadata": {},
   "outputs": [],
   "source": [
    "# Relocation\n",
    "driver.find_element_by_xpath(\"/html/body/table[1]/tbody/tr[3]/td/center/table[3]/tbody/tr/td[5]/a\").click()\n",
    "# Diarrhea\n",
    "driver.find_element_by_xpath(\"/html/body/table[1]/tbody/tr[3]/td/center/table[2]/tbody/tr/td[6]/a\").click()\n",
    "# Snomed\n",
    "driver.find_element_by_xpath(\"/html/body/table[1]/tbody/tr[3]/td/center/table[3]/tbody/tr/td[8]/a\").click()\n",
    "# Weight TB\n",
    "driver.find_element_by_xpath(\"/html/body/table[1]/tbody/tr[3]/td/center/table[3]/tbody/tr/td[10]/a\").click()"
   ]
  }
 ],
 "metadata": {
  "kernelspec": {
   "display_name": "Python 3",
   "language": "python",
   "name": "python3"
  },
  "language_info": {
   "codemirror_mode": {
    "name": "ipython",
    "version": 3
   },
   "file_extension": ".py",
   "mimetype": "text/x-python",
   "name": "python",
   "nbconvert_exporter": "python",
   "pygments_lexer": "ipython3",
   "version": "3.6.5"
  }
 },
 "nbformat": 4,
 "nbformat_minor": 4
}
