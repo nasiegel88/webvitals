{
 "cells": [
  {
   "cell_type": "code",
   "execution_count": null,
   "metadata": {},
   "outputs": [],
   "source": []
  },
  {
   "cell_type": "code",
   "execution_count": 40,
   "metadata": {},
   "outputs": [],
   "source": [
    "# Load modules\n",
    "%run -i scripts/login.py\n",
    "%run -i scripts/location.py\n",
    "%run -i scripts/weight.py\n",
    "%run -i scripts/diarrhea_observations.py"
   ]
  },
  {
   "cell_type": "markdown",
   "metadata": {},
   "source": [
    "### webvitals.py"
   ]
  },
  {
   "cell_type": "code",
   "execution_count": 24,
   "metadata": {},
   "outputs": [],
   "source": [
    "# Example query for testing\n",
    "query = ['47455','47510' ,'40459']"
   ]
  },
  {
   "cell_type": "code",
   "execution_count": 41,
   "metadata": {
    "scrolled": true
   },
   "outputs": [
    {
     "name": "stdout",
     "output_type": "stream",
     "text": [
      "\n"
     ]
    },
    {
     "name": "stderr",
     "output_type": "stream",
     "text": [
      "[WDM] - ====== WebDriver manager ======\n",
      "INFO:WDM:====== WebDriver manager ======\n",
      "[WDM] - Driver [C:\\Users\\Noah Siegel\\.wdm\\drivers\\geckodriver\\win64\\v0.20.0\\geckodriver.exe] found in cache\n",
      "INFO:WDM:Driver [C:\\Users\\Noah Siegel\\.wdm\\drivers\\geckodriver\\win64\\v0.20.0\\geckodriver.exe] found in cache\n"
     ]
    },
    {
     "name": "stdout",
     "output_type": "stream",
     "text": [
      "'webvitals_config.properties' found!\n",
      "[+] Login successful!\n",
      "\n",
      "Running location query\n"
     ]
    },
    {
     "name": "stderr",
     "output_type": "stream",
     "text": [
      "100%|████████████████████████████████████████████████████████████████| 3/3 [00:01<00:00,  1.82it/s]\n"
     ]
    },
    {
     "name": "stdout",
     "output_type": "stream",
     "text": [
      "Running diarrhea observation query\n"
     ]
    },
    {
     "name": "stderr",
     "output_type": "stream",
     "text": [
      "100%|████████████████████████████████████████████████████████████████| 3/3 [00:01<00:00,  1.51it/s]\n"
     ]
    },
    {
     "name": "stdout",
     "output_type": "stream",
     "text": [
      "Running weight query\n"
     ]
    },
    {
     "name": "stderr",
     "output_type": "stream",
     "text": [
      "100%|████████████████████████████████████████████████████████████████| 3/3 [00:01<00:00,  1.66it/s]\n"
     ]
    },
    {
     "name": "stdout",
     "output_type": "stream",
     "text": [
      "driver Title: CNPRC Web VITALS ver. 2.5.3\n",
      "Driver name: firefox\n",
      "Driver URL: https://davos.primate.ucdavis.edu/webVitals/queryAnimal.do?animalID=40459&dPage=WeightsTB\n"
     ]
    }
   ],
   "source": [
    "import selenium\n",
    "import datetime\n",
    "import getpass\n",
    "import time\n",
    "import os\n",
    "\n",
    "import numpy as np\n",
    "import pandas as pd\n",
    "import dateutil.parser as dparser\n",
    "\n",
    "from selenium import webdriver\n",
    "from selenium.webdriver.support.ui import WebDriverWait\n",
    "from selenium.webdriver.support import expected_conditions as EC\n",
    "from selenium.webdriver.common.by import By\n",
    "from selenium.webdriver.firefox.options import Options\n",
    "from selenium.common.exceptions import NoSuchElementException\n",
    "\n",
    "from tqdm import tqdm\n",
    "\n",
    "from jproperties import Properties\n",
    "\n",
    "from webdriver_manager.firefox import GeckoDriverManager\n",
    "\n",
    "from bs4 import BeautifulSoup\n",
    "\n",
    "# Install Geckodriver\n",
    "driver = webdriver.Firefox(executable_path=GeckoDriverManager(version=\"v0.20.0\").install())\n",
    "\n",
    "# # Enter options\n",
    "# options = FirefoxOptions()\n",
    "# options.add_argument(\"--headless\")\n",
    "# driver = webdriver.Firefox(options=options)\n",
    "\n",
    "# Go to login page\n",
    "driver.get(\"https://davos.primate.ucdavis.edu/login/\")\n",
    "\n",
    "login()\n",
    "\n",
    "print('Running location query')\n",
    "time.sleep(2)\n",
    "location(query)\n",
    "\n",
    "print('Running diarrhea observation query')\n",
    "time.sleep(2)\n",
    "diarrhea_observations(query)\n",
    "\n",
    "print('Running weight query')\n",
    "time.sleep(2)\n",
    "weight(query)\n",
    "\n",
    "# def snomed(ids):\n",
    "#     data = pd.DataFrame()\n",
    "    \n",
    "#     for i in ids:\n",
    "#         # Go to snomed in Webvitals\n",
    "#         driver.find_element_by_name(\"query_input\").send_keys('47455')\n",
    "#         driver.find_element_by_name(\"submit\").click()\n",
    "        \n",
    "#         xpath=\"/html/body/table[1]/tbody/tr[3]/td/center/table[3]/tbody/tr/td[8]/a\"\n",
    "#         driver.find_element_by_xpath(xpath).click()\n",
    "\n",
    "#         # Extract html table\n",
    "#         xpath=\"/html/body/table[2]/tbody/tr/td[1]/html:errors/center[1]/table\"\n",
    "#         tableelement= (\n",
    "#             WebDriverWait(driver,10)\n",
    "\n",
    "#             .until(EC.visibility_of_element_located((By.XPATH, xpath)))\n",
    "#             .get_attribute('outerHTML')\n",
    "#         )        \n",
    "#         table = pd.read_html(str(tableelement))[0]\n",
    "\n",
    "#         # Add column to specify MMU number\n",
    "#         table['MMU'] = '47455'\n",
    "#         first_column = table.pop('MMU')\n",
    "#         table.insert(0, 'MMU', first_column)\n",
    "\n",
    "#         # Append dataframes into one dataframe\n",
    "#         data = data.append(table, ignore_index=True)\n",
    "#         print(data)\n",
    "\n",
    "\n",
    "\n",
    "print('driver Title:',driver.title)\n",
    "print('Driver name:',driver.name)\n",
    "print('Driver URL:',driver.current_url)\n",
    "driver.quit()"
   ]
  },
  {
   "cell_type": "code",
   "execution_count": null,
   "metadata": {},
   "outputs": [],
   "source": []
  }
 ],
 "metadata": {
  "kernelspec": {
   "display_name": "Python 3",
   "language": "python",
   "name": "python3"
  },
  "language_info": {
   "codemirror_mode": {
    "name": "ipython",
    "version": 3
   },
   "file_extension": ".py",
   "mimetype": "text/x-python",
   "name": "python",
   "nbconvert_exporter": "python",
   "pygments_lexer": "ipython3",
   "version": "3.6.5"
  }
 },
 "nbformat": 4,
 "nbformat_minor": 4
}
