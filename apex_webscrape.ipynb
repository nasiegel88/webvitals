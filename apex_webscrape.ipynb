{
 "cells": [
  {
   "cell_type": "markdown",
   "metadata": {},
   "source": [
    "### key.py"
   ]
  },
  {
   "cell_type": "code",
   "execution_count": 45,
   "metadata": {},
   "outputs": [
    {
     "name": "stdout",
     "output_type": "stream",
     "text": [
      "'webvitals_config.properties' found!\n"
     ]
    }
   ],
   "source": [
    "from jproperties import Properties\n",
    "key=\"webvitals_config.properties\"\n",
    "try:\n",
    "    f = open(key)\n",
    "    configs = Properties()\n",
    "    \n",
    "    with open(key, 'rb') as config_file:\n",
    "        configs.load(config_file)\n",
    "        \n",
    "    items_view = configs.items()\n",
    "    list_keys = []\n",
    "    print(\"'\" + key + \"'\" + \" found!\")    \n",
    "    for item in items_view:\n",
    "        list_keys.append(item[0])    \n",
    "except IOError:\n",
    "    print(\"please create \" + key + \" file w/ credentials\")\n",
    "finally:\n",
    "    f.close()"
   ]
  },
  {
   "cell_type": "markdown",
   "metadata": {},
   "source": [
    "### automate_login.py"
   ]
  },
  {
   "cell_type": "code",
   "execution_count": 30,
   "metadata": {},
   "outputs": [],
   "source": [
    "def login(username, password):\n",
    "    \n",
    "    from logging import error\n",
    "    from selenium import webdriver\n",
    "    from selenium.webdriver.support.ui import WebDriverWait\n",
    "    \n",
    "    # Login\n",
    "    driver.find_element_by_name(\"ssousername\").send_keys(username)\n",
    "    driver.find_element_by_name(\"password\").send_keys(password)\n",
    "    driver.find_element_by_xpath(\"/html/body/center/table/tbody/tr[3]/td/font/input[1]\").click()\n",
    "    \n",
    "    # Handle errors logging in\n",
    "    WebDriverWait(driver=driver, timeout=10).until(\n",
    "    lambda x: x.execute_script(\"return document.readyState === 'complete'\"))\n",
    "    error_message = \"Incorrect username or password.\"\n",
    "    errors = driver.find_elements_by_class_name(\"flash-error\")\n",
    "    \n",
    "    # Print errors optionally\n",
    "    if any(error_message in e.text for e in errors):\n",
    "        print(\"[!] Login failed!\")\n",
    "    else:\n",
    "        print(\"[+] Login successful!\")\n"
   ]
  },
  {
   "cell_type": "markdown",
   "metadata": {},
   "source": [
    "### webvitals.py"
   ]
  },
  {
   "cell_type": "code",
   "execution_count": 47,
   "metadata": {},
   "outputs": [
    {
     "name": "stdout",
     "output_type": "stream",
     "text": [
      "\n"
     ]
    },
    {
     "name": "stderr",
     "output_type": "stream",
     "text": [
      "[WDM] - ====== WebDriver manager ======\n",
      "[WDM] - Driver [C:\\Users\\Noah Siegel\\.wdm\\drivers\\geckodriver\\win64\\v0.20.0\\geckodriver.exe] found in cache\n"
     ]
    },
    {
     "name": "stdout",
     "output_type": "stream",
     "text": [
      "[+] Login successful!\n",
      "driver Title: CNPRC Web VITALS ver. 2.5.3\n",
      "Driver name: firefox\n",
      "Driver URL: https://davos.primate.ucdavis.edu/webVitals/queryAnimal.do?animalID=47455\n"
     ]
    }
   ],
   "source": [
    "import selenium\n",
    "\n",
    "from selenium import webdriver\n",
    "from webdriver_manager.firefox import GeckoDriverManager\n",
    "from selenium.webdriver.firefox.options import Options\n",
    "\n",
    "# Install Geckodriver\n",
    "driver = webdriver.Firefox(executable_path=GeckoDriverManager(version=\"v0.20.0\").install())\n",
    "\n",
    "# Go to login page\n",
    "driver.get(\"https://davos.primate.ucdavis.edu/login/\")\n",
    "\n",
    "# Login\n",
    "login(username=configs.get(\"USERNAME\")[0],\n",
    "      password=configs.get(\"PASSWORD\")[0])\n",
    "\n",
    "# Enter Webvitals\n",
    "driver.find_element_by_xpath(\"/html/body/ul/li[1]/a\").click()\n",
    "\n",
    "driver.find_element_by_name(\"query_input\").send_keys(\"47455\")\n",
    "driver.find_element_by_name(\"submit\").click()\n",
    "\n",
    "print('driver Title:',driver.title)\n",
    "print('Driver name:',driver.name)\n",
    "print('Driver URL:',driver.current_url)\n",
    "driver.quit()"
   ]
  },
  {
   "cell_type": "markdown",
   "metadata": {},
   "source": [
    "### animal_info.py"
   ]
  },
  {
   "cell_type": "code",
   "execution_count": null,
   "metadata": {},
   "outputs": [],
   "source": [
    "def animal_info(mmu):"
   ]
  }
 ],
 "metadata": {
  "kernelspec": {
   "display_name": "Python 3",
   "language": "python",
   "name": "python3"
  },
  "language_info": {
   "codemirror_mode": {
    "name": "ipython",
    "version": 3
   },
   "file_extension": ".py",
   "mimetype": "text/x-python",
   "name": "python",
   "nbconvert_exporter": "python",
   "pygments_lexer": "ipython3",
   "version": "3.6.5"
  }
 },
 "nbformat": 4,
 "nbformat_minor": 4
}
